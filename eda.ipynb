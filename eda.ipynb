{
 "cells": [
  {
   "cell_type": "code",
   "execution_count": 2,
   "id": "8c88cb0a-01e2-419d-82de-3f30f804ee9a",
   "metadata": {},
   "outputs": [],
   "source": [
    "import os\n",
    "from glob import glob\n",
    "import pandas as pd\n",
    "from functools import reduce\n",
    "from xml.etree import ElementTree as et "
   ]
  },
  {
   "cell_type": "raw",
   "id": "90308558-1e67-4b40-8c8c-85c63932cabe",
   "metadata": {},
   "source": [
    "DATA PREPARATION"
   ]
  },
  {
   "cell_type": "code",
   "execution_count": 3,
   "id": "06d094fa-7d64-42b0-8b36-ab8a282af02d",
   "metadata": {},
   "outputs": [],
   "source": [
    "xml_list = glob('./data/*.xml')"
   ]
  },
  {
   "cell_type": "code",
   "execution_count": 4,
   "id": "313076cf-cdc7-4291-aff9-2ccb5838b5f4",
   "metadata": {},
   "outputs": [],
   "source": [
    "def extract_text(filename):\n",
    "    tree = et.parse(filename)\n",
    "    root = tree.getroot()\n",
    "\n",
    "    image_name = root.find('filename').text\n",
    "    width = root.find('size').find('width').text\n",
    "    height = root.find('size').find('height').text\n",
    "    objs = root.findall('object')\n",
    "\n",
    "    parser = []\n",
    "    for o in objs:\n",
    "        name = o.find('name').text\n",
    "        bndbox = o.find('bndbox')\n",
    "        xmin = bndbox.find('xmin').text\n",
    "        xmax = bndbox.find('xmax').text\n",
    "        ymin = bndbox.find('ymin').text\n",
    "        ymax = bndbox.find('ymax').text\n",
    "        parser.append([image_name, width, height, name, xmin, xmax, ymin, ymax])\n",
    "\n",
    "    return parser"
   ]
  },
  {
   "cell_type": "code",
   "execution_count": 5,
   "id": "d3426cf0-fab5-47c0-90eb-5220e17bf692",
   "metadata": {},
   "outputs": [],
   "source": [
    "parser_all = list(map(extract_text, xml_list))\n",
    "\n",
    "data = reduce(lambda x, y: x + y, parser_all)"
   ]
  },
  {
   "cell_type": "code",
   "execution_count": 6,
   "id": "fecef8af-d247-4d8d-9eda-7c13995812e7",
   "metadata": {},
   "outputs": [],
   "source": [
    "df = pd.DataFrame(data, columns=['filename', 'width', 'height', 'name', 'xmin', 'xmax', 'ymin', 'ymax'])"
   ]
  },
  {
   "cell_type": "code",
   "execution_count": 7,
   "id": "0e591692-2c38-4be5-a406-fd5f7edc1199",
   "metadata": {},
   "outputs": [
    {
     "name": "stdout",
     "output_type": "stream",
     "text": [
      "(335, 8) up      194\n",
      "down    141\n",
      "Name: name, dtype: int64\n"
     ]
    }
   ],
   "source": [
    "print(df.shape, df['name'].value_counts())"
   ]
  },
  {
   "cell_type": "code",
   "execution_count": 8,
   "id": "baf5a8b4-ca69-4153-9302-80f4b821a9c8",
   "metadata": {},
   "outputs": [],
   "source": [
    "cols = ['width', 'height', 'xmin', 'xmax', 'ymin', 'ymax']\n",
    "df[cols] = df[cols].astype(int)"
   ]
  },
  {
   "cell_type": "code",
   "execution_count": 9,
   "id": "fa510fb4-c1b2-4d19-9f53-1a8948bc0d09",
   "metadata": {},
   "outputs": [],
   "source": [
    "df['center_x'] = (df['xmin'] + df['xmax']) / (2 * df['width'])\n",
    "df['center_y'] = (df['ymin'] + df['ymax']) / (2 * df['height'])\n",
    "df['w'] = (df['xmax'] - df['xmin']) / df['width']\n",
    "df['h'] = (df['ymax'] - df['ymin']) / df['height']"
   ]
  },
  {
   "cell_type": "code",
   "execution_count": 10,
   "id": "c1dc30f6-fbd0-4dce-b592-3d3a15368e34",
   "metadata": {},
   "outputs": [],
   "source": [
    "images = df['filename'].unique()\n",
    "img_df = pd.DataFrame(images, columns=['filename'])\n",
    "img_train = tuple(img_df.sample(frac=0.8)['filename'])\n",
    "img_test = tuple(img_df.query(f'filename not in {img_train}')['filename'])"
   ]
  },
  {
   "cell_type": "code",
   "execution_count": 11,
   "id": "5e0c87ef-7610-44ac-a688-b2475b312b4b",
   "metadata": {},
   "outputs": [],
   "source": [
    "train_df = df.query(f'filename in {img_train}')\n",
    "test_df = df.query(f'filename in {img_test}')"
   ]
  },
  {
   "cell_type": "code",
   "execution_count": 13,
   "id": "e6f88ab7-f288-4e53-adfa-b9fcd5c1faa5",
   "metadata": {},
   "outputs": [],
   "source": [
    "def label_encoding(x):\n",
    "    labels = {'down': 0, 'up': 1}\n",
    "    return labels[x]"
   ]
  },
  {
   "cell_type": "code",
   "execution_count": 14,
   "id": "26f0ab27-8773-48bc-a20e-817e3236b4aa",
   "metadata": {},
   "outputs": [
    {
     "name": "stderr",
     "output_type": "stream",
     "text": [
      "/tmp/ipykernel_5129/3116627190.py:1: SettingWithCopyWarning: \n",
      "A value is trying to be set on a copy of a slice from a DataFrame.\n",
      "Try using .loc[row_indexer,col_indexer] = value instead\n",
      "\n",
      "See the caveats in the documentation: https://pandas.pydata.org/pandas-docs/stable/user_guide/indexing.html#returning-a-view-versus-a-copy\n",
      "  train_df['id'] = train_df['name'].apply(label_encoding)\n",
      "/tmp/ipykernel_5129/3116627190.py:2: SettingWithCopyWarning: \n",
      "A value is trying to be set on a copy of a slice from a DataFrame.\n",
      "Try using .loc[row_indexer,col_indexer] = value instead\n",
      "\n",
      "See the caveats in the documentation: https://pandas.pydata.org/pandas-docs/stable/user_guide/indexing.html#returning-a-view-versus-a-copy\n",
      "  test_df['id'] = test_df['name'].apply(label_encoding)\n"
     ]
    }
   ],
   "source": [
    "train_df['id'] = train_df['name'].apply(label_encoding)\n",
    "test_df['id'] = test_df['name'].apply(label_encoding)"
   ]
  },
  {
   "cell_type": "code",
   "execution_count": 16,
   "id": "185a10ff-9479-49be-ad39-9e8c5657dba3",
   "metadata": {},
   "outputs": [],
   "source": [
    "from shutil import move\n",
    "import os"
   ]
  },
  {
   "cell_type": "code",
   "execution_count": 18,
   "id": "5a5e8025-d91b-42d2-a05e-14c2f14ebd47",
   "metadata": {},
   "outputs": [],
   "source": [
    "train_folder = 'org_data/train'\n",
    "test_folder = 'org_data/test'\n",
    "\n",
    "os.mkdir(train_folder)\n",
    "os.mkdir(test_folder)"
   ]
  },
  {
   "cell_type": "code",
   "execution_count": 20,
   "id": "04650290-f412-451f-952c-c03071edf905",
   "metadata": {},
   "outputs": [],
   "source": [
    "cols = ['filename', 'id', 'center_x', 'center_y', 'w', 'h']\n",
    "groupby_obj_train = train_df[cols].groupby('filename')\n",
    "groupby_obj_test = test_df[cols].groupby('filename')"
   ]
  },
  {
   "cell_type": "code",
   "execution_count": 21,
   "id": "1c15e24b-2ced-4c1e-9d0a-656ac80b4ac1",
   "metadata": {},
   "outputs": [],
   "source": [
    "def save_data(filename, folder_path, group_obj):\n",
    "    src = os.path.join('data', filename)\n",
    "    dst = os.path.join(folder_path, filename)\n",
    "    move(src, dst)\n",
    "\n",
    "    text_filename = os.path.join(folder_path, os.path.splitext(filename)[0] + '.txt')\n",
    "    group_obj.get_group(filename).set_index('filename').to_csv(text_filename, sep=' ', index=False, header=False)"
   ]
  },
  {
   "cell_type": "code",
   "execution_count": 22,
   "id": "42105a18-847d-495e-8491-38cfadc21c88",
   "metadata": {},
   "outputs": [
    {
     "data": {
      "text/plain": [
       "0      None\n",
       "1      None\n",
       "2      None\n",
       "3      None\n",
       "4      None\n",
       "       ... \n",
       "207    None\n",
       "208    None\n",
       "209    None\n",
       "210    None\n",
       "211    None\n",
       "Length: 212, dtype: object"
      ]
     },
     "execution_count": 22,
     "metadata": {},
     "output_type": "execute_result"
    }
   ],
   "source": [
    "filename_series = pd.Series(groupby_obj_train.groups.keys())\n",
    "filename_series.apply(save_data, args=(train_folder, groupby_obj_train))"
   ]
  },
  {
   "cell_type": "code",
   "execution_count": 23,
   "id": "bc657e01-6ce2-454c-9fff-1145078e7332",
   "metadata": {},
   "outputs": [
    {
     "data": {
      "text/plain": [
       "0     None\n",
       "1     None\n",
       "2     None\n",
       "3     None\n",
       "4     None\n",
       "5     None\n",
       "6     None\n",
       "7     None\n",
       "8     None\n",
       "9     None\n",
       "10    None\n",
       "11    None\n",
       "12    None\n",
       "13    None\n",
       "14    None\n",
       "15    None\n",
       "16    None\n",
       "17    None\n",
       "18    None\n",
       "19    None\n",
       "20    None\n",
       "21    None\n",
       "22    None\n",
       "23    None\n",
       "24    None\n",
       "25    None\n",
       "26    None\n",
       "27    None\n",
       "28    None\n",
       "29    None\n",
       "30    None\n",
       "31    None\n",
       "32    None\n",
       "33    None\n",
       "34    None\n",
       "35    None\n",
       "36    None\n",
       "37    None\n",
       "38    None\n",
       "39    None\n",
       "40    None\n",
       "41    None\n",
       "42    None\n",
       "43    None\n",
       "44    None\n",
       "45    None\n",
       "46    None\n",
       "47    None\n",
       "48    None\n",
       "49    None\n",
       "50    None\n",
       "51    None\n",
       "52    None\n",
       "dtype: object"
      ]
     },
     "execution_count": 23,
     "metadata": {},
     "output_type": "execute_result"
    }
   ],
   "source": [
    "filename_series_test = pd.Series(groupby_obj_test.groups.keys())\n",
    "filename_series_test.apply(save_data, args=(test_folder, groupby_obj_test))"
   ]
  },
  {
   "cell_type": "code",
   "execution_count": null,
   "id": "2aa8b412-6d50-42e9-a38c-39ea58bc8c6a",
   "metadata": {},
   "outputs": [],
   "source": []
  }
 ],
 "metadata": {
  "kernelspec": {
   "display_name": "Python 3 (ipykernel)",
   "language": "python",
   "name": "python3"
  },
  "language_info": {
   "codemirror_mode": {
    "name": "ipython",
    "version": 3
   },
   "file_extension": ".py",
   "mimetype": "text/x-python",
   "name": "python",
   "nbconvert_exporter": "python",
   "pygments_lexer": "ipython3",
   "version": "3.8.10"
  }
 },
 "nbformat": 4,
 "nbformat_minor": 5
}
