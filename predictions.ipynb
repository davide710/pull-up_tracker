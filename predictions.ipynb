{
 "cells": [
  {
   "cell_type": "code",
   "execution_count": 1,
   "id": "cd3d08c9-147a-4186-a34a-983fa3c2ff39",
   "metadata": {},
   "outputs": [],
   "source": [
    "import cv2\n",
    "from using_model import YOLO_pred"
   ]
  },
  {
   "cell_type": "code",
   "execution_count": 2,
   "id": "5308f0a6-cacf-48b7-89f3-528331c12fe9",
   "metadata": {},
   "outputs": [],
   "source": [
    "yolo = YOLO_pred('secondo_tentativo.onnx', 'data.yaml')"
   ]
  },
  {
   "cell_type": "code",
   "execution_count": 6,
   "id": "ca2e28f4-2470-4d11-94db-267038e2627b",
   "metadata": {},
   "outputs": [],
   "source": [
    "img = cv2.imread('predict/000001.png')\n",
    "\n",
    "img_pred = yolo.predictions(img)\n",
    "\n",
    "cv2.imshow('original', img)\n",
    "cv2.imshow('predictions', img_pred)\n",
    "cv2.waitKey(0)\n",
    "cv2.destroyAllWindows()"
   ]
  },
  {
   "cell_type": "code",
   "execution_count": 5,
   "id": "da79fa43-3452-4fc8-93eb-d4d844745355",
   "metadata": {},
   "outputs": [],
   "source": [
    "cap = cv2.VideoCapture('predict/pullups_yt0.mp4')\n",
    "\n",
    "while True:\n",
    "    ret, frame = cap.read()\n",
    "    if ret == False:\n",
    "        break\n",
    "\n",
    "    pred_img = yolo.predictions(frame)\n",
    "\n",
    "    cv2.imshow('video', pred_img)\n",
    "    if cv2.waitKey(1) == 27: ##esc\n",
    "        break\n",
    "\n",
    "cv2.destroyAllWindows()\n",
    "cap.release()"
   ]
  },
  {
   "cell_type": "code",
   "execution_count": null,
   "id": "82a9eb51-af5b-4923-b232-dbaf8526ca9f",
   "metadata": {},
   "outputs": [],
   "source": []
  }
 ],
 "metadata": {
  "kernelspec": {
   "display_name": "Python 3 (ipykernel)",
   "language": "python",
   "name": "python3"
  },
  "language_info": {
   "codemirror_mode": {
    "name": "ipython",
    "version": 3
   },
   "file_extension": ".py",
   "mimetype": "text/x-python",
   "name": "python",
   "nbconvert_exporter": "python",
   "pygments_lexer": "ipython3",
   "version": "3.8.10"
  }
 },
 "nbformat": 4,
 "nbformat_minor": 5
}
